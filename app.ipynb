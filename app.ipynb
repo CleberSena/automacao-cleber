{
 "cells": [
  {
   "cell_type": "code",
   "execution_count": null,
   "metadata": {},
   "outputs": [],
   "source": [
    "import yfinance as yf\n",
    "ativo = str(input('Digite o ativo a consultar; ')).upper()\n",
    "dados = yf.Ticker(ativo).history('6mo')\n",
    "Fechamento = dados.Close\n",
    "Máxima = round(Fechamento.max(), 2)\n",
    "Mínima = round(Fechamento.min(), 2)\n",
    "Atual = round(Fechamento[-1], 2)\n",
    "display(f' A cotação máxima do ativo {ativo} nos últimos seis meses é de R${Máxima} reais.')\n",
    "display(f' A cotação Mínima do ativo {ativo} nos últimos seis meses é de R${Mínima} reais.')\n",
    "display(f' A cotação atual do ativo {ativo} nos últimos seis meses e de R${Atual} reais.')"
   ]
  },
  {
   "cell_type": "code",
   "execution_count": null,
   "metadata": {},
   "outputs": [],
   "source": [
    "#Enviando um EMAIL...\n",
    "# 1°Passo=> apertar as teclas (Alt + tab) para sair do vscode e ir para o navegador em seguida (ctrl + t) para abrir um aba nova.\n",
    "import pyautogui as bot\n",
    "import pyperclip as pc\n",
    "bot.PAUSE = 2\n",
    "bot.hotkey(\"Alt\", \"tab\")\n",
    "bot.hotkey(\"ctrl\", \"t\")\n",
    "# 2° Passo=> Digitar o endereço do gmail e dar um enter.\n",
    "pc.copy('www.gmail.com')\n",
    "bot.hotkey('ctrl','v')\n",
    "bot.hotkey('enter')\n",
    "# 3° Passo=> Clicar no botão \"escrever\" do seu gmail, \n",
    "bot.click(x=722, y=164)\n",
    "# 4° Passo=> Digitar o \"destinatário\", depois a tecla \"tab\".\n",
    "bot.write('josedacouve@gmail.com')\n",
    "bot.hotkey('tab')\n",
    "bot.hotkey('tab')\n",
    "# 5°Passo=> Diditar o \"assunto\": e aperte \"tab\"\n",
    "pc.copy('Análise diária do Mercado Financeiro')\n",
    "bot.hotkey('ctrl','v')\n",
    "bot.hotkey('tab')\n",
    "# 6° Passo=> Digitar a mensagem do email, \"tab\"\n",
    "\n",
    "Mensagem = f\"\"\"Prezado Gestor:\n",
    "\n",
    "Seguem as análises conforme solicitado, da ação {ativo}, referente aos últimos seis meses:\n",
    "\n",
    "A cotação máxima foi de R${Máxima} reais\n",
    "A cotação Mínima foi de R${Mínima} reais\n",
    "A cotação atual é de R${Atual} reais.\n",
    "\n",
    "Qualquer dúvida estou à disposição!\n",
    "\n",
    "atte.\n",
    "        Cleber Winkelstroter Sena.\n",
    "\"\"\" \n",
    "pc.copy(Mensagem)\n",
    "bot.hotkey('ctrl', 'v')\n",
    "bot.hotkey('tab')\n",
    "# Passo=> Clicar em enviar:\n",
    "bot.hotkey('enter')"
   ]
  },
  {
   "cell_type": "code",
   "execution_count": null,
   "metadata": {},
   "outputs": [],
   "source": [
    "# import time\n",
    "# time.sleep(5)\n",
    "# bot.position()"
   ]
  }
 ],
 "metadata": {
  "kernelspec": {
   "display_name": "Python 3",
   "language": "python",
   "name": "python3"
  },
  "language_info": {
   "codemirror_mode": {
    "name": "ipython",
    "version": 3
   },
   "file_extension": ".py",
   "mimetype": "text/x-python",
   "name": "python",
   "nbconvert_exporter": "python",
   "pygments_lexer": "ipython3",
   "version": "3.11.4"
  },
  "orig_nbformat": 4
 },
 "nbformat": 4,
 "nbformat_minor": 2
}
